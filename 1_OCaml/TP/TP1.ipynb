{
 "cells": [
  {
   "cell_type": "markdown",
   "id": "b8d3dc43-f84d-40da-be68-8150c9adb7a6",
   "metadata": {},
   "source": [
    "let f x y = x**y"
   ]
  },
  {
   "cell_type": "markdown",
   "id": "c35f58a7-1edd-40b9-ab09-a518d26fd2f3",
   "metadata": {},
   "source": [
    "Basile TONLORENZI MP2I (TP1)"
   ]
  },
  {
   "cell_type": "code",
   "execution_count": 6,
   "id": "b3ad2cbd-4539-49f6-8823-4a7cd518114f",
   "metadata": {},
   "outputs": [
    {
     "data": {
      "text/plain": [
       "- : float = 625.\n"
      ]
     },
     "execution_count": 6,
     "metadata": {},
     "output_type": "execute_result"
    }
   ],
   "source": [
    "f 5.0 4."
   ]
  },
  {
   "cell_type": "code",
   "execution_count": 7,
   "id": "68ba8b73-ecec-47fa-ab97-32e1c6473b82",
   "metadata": {},
   "outputs": [
    {
     "data": {
      "text/plain": [
       "val g : (int -> 'a) -> int -> 'a = <fun>\n"
      ]
     },
     "execution_count": 7,
     "metadata": {},
     "output_type": "execute_result"
    }
   ],
   "source": [
    "let g x y = x (y + 1)"
   ]
  },
  {
   "cell_type": "code",
   "execution_count": 16,
   "id": "75666c7f-82f1-48e6-ae55-2ed58889c2d3",
   "metadata": {},
   "outputs": [
    {
     "data": {
      "text/plain": [
       "val h : (float -> int) -> ('a -> float) -> 'a -> int = <fun>\n"
      ]
     },
     "execution_count": 16,
     "metadata": {},
     "output_type": "execute_result"
    }
   ],
   "source": [
    "let h x y z = x (3. *. (y z)) + 1"
   ]
  },
  {
   "cell_type": "code",
   "execution_count": 27,
   "id": "e1243ba8-9989-4089-ba6c-3dab99279490",
   "metadata": {},
   "outputs": [
    {
     "data": {
      "text/plain": [
       "- : int = 7\n"
      ]
     },
     "execution_count": 27,
     "metadata": {},
     "output_type": "execute_result"
    }
   ],
   "source": [
    "let x a = int_of_float a in\n",
    "let y b = 2.0 in\n",
    "let z = 2.0 in\n",
    "h x y z"
   ]
  },
  {
   "cell_type": "code",
   "execution_count": 23,
   "id": "bd54d84a-5936-49a3-a705-ec0f1fac33fa",
   "metadata": {},
   "outputs": [
    {
     "data": {
      "text/plain": [
       "val tanh : float -> float = <fun>\n"
      ]
     },
     "execution_count": 23,
     "metadata": {},
     "output_type": "execute_result"
    }
   ],
   "source": [
    "let tanh x =\n",
    "let e a = exp(a) in\n",
    "(e x -. e (-.x)) /. (e x +. e (-.x))"
   ]
  },
  {
   "cell_type": "code",
   "execution_count": 26,
   "id": "16cf107a-df87-431f-885f-60428f66d5f2",
   "metadata": {},
   "outputs": [
    {
     "data": {
      "text/plain": [
       "- : float = 0.\n"
      ]
     },
     "execution_count": 26,
     "metadata": {},
     "output_type": "execute_result"
    }
   ],
   "source": [
    "tanh 0.0"
   ]
  },
  {
   "cell_type": "code",
   "execution_count": 16,
   "id": "59785453-9307-4c72-ad82-f7d7044466f9",
   "metadata": {},
   "outputs": [
    {
     "data": {
      "text/plain": [
       "val r_boul : float -> float = <fun>\n"
      ]
     },
     "execution_count": 16,
     "metadata": {},
     "output_type": "execute_result"
    }
   ],
   "source": [
    "let r_boul r =\n",
    "    (4.0 /. 3.0) *.  Float.pi *. r**3."
   ]
  },
  {
   "cell_type": "code",
   "execution_count": 1,
   "id": "13f66f32-97c7-40ff-8039-c4cbe5637aa9",
   "metadata": {},
   "outputs": [
    {
     "data": {
      "text/plain": [
       "val distance : float * float -> float * float -> float = <fun>\n"
      ]
     },
     "execution_count": 1,
     "metadata": {},
     "output_type": "execute_result"
    }
   ],
   "source": [
    "let distance (x, y) (x1, y1) =\n",
    "    sqrt((x1-.x)**2. +. (y1-.y)**2.)"
   ]
  },
  {
   "cell_type": "code",
   "execution_count": 4,
   "id": "9d9a06ce-db72-4c63-81b1-4f7cc54c3115",
   "metadata": {},
   "outputs": [
    {
     "data": {
      "text/plain": [
       "val polaire : float * float -> float * float = <fun>\n"
      ]
     },
     "execution_count": 4,
     "metadata": {},
     "output_type": "execute_result"
    }
   ],
   "source": [
    "let polaire (r, y) =\n",
    "let x = r*.cos(y) in\n",
    "let y = r*.sin(y) in\n",
    "(x, y);;"
   ]
  },
  {
   "cell_type": "markdown",
   "id": "40fa3b45-6d1c-4ad8-a9d3-26d62cc5299d",
   "metadata": {},
   "source": [
    "Test des 2 fonctions du dessus"
   ]
  },
  {
   "cell_type": "code",
   "execution_count": 13,
   "id": "b865e1f2-87ad-412f-8989-ec0ea6d4a9e1",
   "metadata": {},
   "outputs": [
    {
     "data": {
      "text/plain": [
       "- : float * float = (1.41421356237309515, 1.41421356237309492)\n"
      ]
     },
     "execution_count": 13,
     "metadata": {},
     "output_type": "execute_result"
    }
   ],
   "source": [
    "polaire (2., (Float.pi/.4.))"
   ]
  },
  {
   "cell_type": "code",
   "execution_count": 14,
   "id": "54ae76da-5d5e-4ee4-92e1-facd4dc357a0",
   "metadata": {},
   "outputs": [
    {
     "data": {
      "text/plain": [
       "- : float = 1.41421356237309515\n"
      ]
     },
     "execution_count": 14,
     "metadata": {},
     "output_type": "execute_result"
    }
   ],
   "source": [
    "distance (0., 0.) (1., 1.)"
   ]
  },
  {
   "cell_type": "code",
   "execution_count": 19,
   "id": "099bd708-6bb8-4e9f-9074-fae850a65de0",
   "metadata": {},
   "outputs": [
    {
     "data": {
      "text/plain": [
       "val milieu : float * float -> float * float -> float * float = <fun>\n"
      ]
     },
     "execution_count": 19,
     "metadata": {},
     "output_type": "execute_result"
    }
   ],
   "source": [
    "let milieu (x, y) (x1, y1) =\n",
    "(((x1 +. x)/.2.), ((y1 +. y) /.2.))"
   ]
  },
  {
   "cell_type": "code",
   "execution_count": 20,
   "id": "dd221dc6-26d9-4b5f-85f0-a2d42479b51e",
   "metadata": {},
   "outputs": [
    {
     "data": {
      "text/plain": [
       "- : float * float = (1., 1.)\n"
      ]
     },
     "execution_count": 20,
     "metadata": {},
     "output_type": "execute_result"
    }
   ],
   "source": [
    "milieu (0., 0.) (2., 2.)"
   ]
  },
  {
   "cell_type": "code",
   "execution_count": 22,
   "id": "61159bf3-916e-43da-b035-ce3b6f578709",
   "metadata": {},
   "outputs": [
    {
     "data": {
      "text/plain": [
       "val paralle :\n",
       "  float * float -> float * float -> float * float -> float * float -> bool =\n",
       "  <fun>\n"
      ]
     },
     "execution_count": 22,
     "metadata": {},
     "output_type": "execute_result"
    }
   ],
   "source": [
    "let paralle (x, y) (x1, y1) (x2, y2) (x3, y3) =\n",
    "(distance (x,y) (x1, y1) -. distance (x3,y3) (x2, y2)) < 0.001 "
   ]
  },
  {
   "cell_type": "markdown",
   "id": "02538b31-ec30-45eb-9f43-6a883c43fc68",
   "metadata": {},
   "source": [
    "Il me semble que vérifier un seul des 2 cotés suffit (si jamais on doit prendre en compte les 2 autres cotés il suffit de rajouter un if au début then conditon 2 autres cotés else false) "
   ]
  },
  {
   "cell_type": "markdown",
   "id": "84df6de4-42fb-4324-be06-31188faad441",
   "metadata": {},
   "source": [
    "2^4k = 1[5]"
   ]
  },
  {
   "cell_type": "code",
   "execution_count": 51,
   "id": "c03afba4-e449-4b5a-be7f-7323442de5bc",
   "metadata": {},
   "outputs": [
    {
     "name": "stdout",
     "output_type": "stream",
     "text": [
      "1\n",
      "2\n",
      "4\n",
      "3\n",
      "1\n",
      "2\n"
     ]
    },
    {
     "data": {
      "text/plain": [
       "- : unit = ()\n"
      ]
     },
     "execution_count": 51,
     "metadata": {},
     "output_type": "execute_result"
    }
   ],
   "source": [
    "for i=0 to 5 do\n",
    "    print_int (int_of_float(1357.**float_of_int(i)) mod 5);\n",
    "    print_newline ()\n",
    "done;"
   ]
  },
  {
   "cell_type": "code",
   "execution_count": 42,
   "id": "d2f52f1d-95ca-4536-8be7-e391ed6e2ef1",
   "metadata": {},
   "outputs": [
    {
     "data": {
      "text/plain": [
       "- : int = 1\n"
      ]
     },
     "execution_count": 42,
     "metadata": {},
     "output_type": "execute_result"
    }
   ],
   "source": [
    "2013 mod 4"
   ]
  },
  {
   "cell_type": "markdown",
   "id": "bbff1c16-32d4-4066-bc1f-32203af1678a",
   "metadata": {},
   "source": [
    "Donc 1357^2013 = 2 [5]"
   ]
  },
  {
   "cell_type": "markdown",
   "id": "04e978d6-c6d1-40da-bb9a-406f497a4b0c",
   "metadata": {},
   "source": [
    "Partie Aléatoire :"
   ]
  },
  {
   "cell_type": "code",
   "execution_count": 53,
   "id": "61b152ae-7ba2-4dfc-b795-f76776be74d3",
   "metadata": {},
   "outputs": [
    {
     "name": "stdout",
     "output_type": "stream",
     "text": [
      "2\n",
      "7\n",
      "5\n",
      "0\n",
      "2\n",
      "5\n",
      "6\n",
      "4\n",
      "3\n",
      "6\n",
      "2\n",
      "5\n",
      "2\n",
      "3\n",
      "4\n",
      "3\n"
     ]
    },
    {
     "data": {
      "text/plain": [
       "- : unit = ()\n"
      ]
     },
     "execution_count": 53,
     "metadata": {},
     "output_type": "execute_result"
    }
   ],
   "source": [
    "for i=0 to 15 do\n",
    "    print_int ((Random.int 5) + (Random.int 5));\n",
    "    print_newline ()\n",
    "done;"
   ]
  },
  {
   "cell_type": "markdown",
   "id": "c863e78b-9625-4c6f-867d-07dccda5746d",
   "metadata": {},
   "source": [
    "Les valeurs extrêmes semblent avoir moins de chances d'arriver"
   ]
  },
  {
   "cell_type": "markdown",
   "id": "ca251cea-f34a-45a8-ab99-c0dcd6bdc172",
   "metadata": {},
   "source": [
    "5 a le plus de chance de tomber (si je sais compter)"
   ]
  },
  {
   "cell_type": "code",
   "execution_count": 55,
   "id": "b56b0a74-5ec8-44ab-af31-7c73107fe8b6",
   "metadata": {},
   "outputs": [
    {
     "data": {
      "text/plain": [
       "- : int = 13\n"
      ]
     },
     "execution_count": 55,
     "metadata": {},
     "output_type": "execute_result"
    }
   ],
   "source": [
    "Random.int 25"
   ]
  },
  {
   "cell_type": "code",
   "execution_count": 87,
   "id": "0ef67025-e3a3-4b9c-bb05-e967620818f7",
   "metadata": {},
   "outputs": [
    {
     "ename": "error",
     "evalue": "compile_error",
     "output_type": "error",
     "traceback": [
      "File \"[87]\", line 1, characters 12-27:\n1 | let x = ref (Random.int 15) in\n                ^^^^^^^^^^^^^^^\nError: This expression has type int but an expression was expected of type\n         int ref\n"
     ]
    }
   ],
   "source": [
    "let x = ref (Random.int 15) in\n",
    "while !x > 7 do\n",
    "    x := ref_of_int((Random.int 15))\n",
    "done;"
   ]
  },
  {
   "cell_type": "markdown",
   "id": "2f2ee60a-b84d-42ba-a4de-201c4c23fe74",
   "metadata": {},
   "source": [
    "Abandon parce que je sais pas ce qu'est le type int ref.\n",
    "Même un chiffre normal ne fonctionne pas, donc c'est pas une histoire de parenthèse."
   ]
  }
 ],
 "metadata": {
  "kernelspec": {
   "display_name": "OCaml default",
   "language": "OCaml",
   "name": "ocaml-jupyter"
  },
  "language_info": {
   "codemirror_mode": "text/x-ocaml",
   "file_extension": ".ml",
   "mimetype": "text/x-ocaml",
   "name": "OCaml",
   "nbconverter_exporter": null,
   "pygments_lexer": "OCaml",
   "version": "4.08.1"
  }
 },
 "nbformat": 4,
 "nbformat_minor": 5
}
