{
 "cells": [
  {
   "cell_type": "markdown",
   "id": "b47e0f1a-65c3-4819-b999-273500059407",
   "metadata": {},
   "source": [
    "Vrai faux le nom type c'est je crois bool."
   ]
  },
  {
   "cell_type": "code",
   "execution_count": 1,
   "id": "c109c360-4c4d-4ba9-8f14-873402198315",
   "metadata": {},
   "outputs": [
    {
     "data": {
      "text/plain": [
       "- : bool = true\n"
      ]
     },
     "execution_count": 1,
     "metadata": {},
     "output_type": "execute_result"
    }
   ],
   "source": [
    "List.mem 6 [6;9;0;14] "
   ]
  },
  {
   "cell_type": "code",
   "execution_count": 5,
   "id": "041d7285-4d39-42f8-b9df-d598fc3c03c9",
   "metadata": {},
   "outputs": [
    {
     "data": {
      "text/plain": [
       "val appa : 'a -> 'a list -> bool = <fun>\n"
      ]
     },
     "execution_count": 5,
     "metadata": {},
     "output_type": "execute_result"
    }
   ],
   "source": [
    "let rec appa el l = match l with\n",
    "| [] -> true\n",
    "| e::q -> if el = e then true\n",
    "else appa el q"
   ]
  },
  {
   "cell_type": "code",
   "execution_count": 6,
   "id": "c9d61494-694b-4786-8774-bb0e989d3a8e",
   "metadata": {},
   "outputs": [
    {
     "data": {
      "text/plain": [
       "- : bool = true\n"
      ]
     },
     "execution_count": 6,
     "metadata": {},
     "output_type": "execute_result"
    }
   ],
   "source": [
    "appa 5 [9;0;453;5]"
   ]
  },
  {
   "cell_type": "code",
   "execution_count": 8,
   "id": "5eb663ae-41bc-43e0-a2e3-01867d7dfff1",
   "metadata": {},
   "outputs": [
    {
     "data": {
      "text/plain": [
       "- : bool = true\n"
      ]
     },
     "execution_count": 8,
     "metadata": {},
     "output_type": "execute_result"
    }
   ],
   "source": [
    "appa 6 [5;9;29;8]"
   ]
  },
  {
   "cell_type": "code",
   "execution_count": 35,
   "id": "fc9cdffd-e253-4759-b276-03d9b1eeeaac",
   "metadata": {},
   "outputs": [
    {
     "data": {
      "text/plain": [
       "val iter : ('a -> unit) -> 'a list -> unit = <fun>\n"
      ]
     },
     "execution_count": 35,
     "metadata": {},
     "output_type": "execute_result"
    }
   ],
   "source": [
    " let rec iter f l = match l with\n",
    "| [] -> ()\n",
    "| [e] -> (f e)\n",
    "| e::q -> f e; (iter f q);;"
   ]
  },
  {
   "cell_type": "code",
   "execution_count": 44,
   "id": "a5d232be-1839-42a6-895c-e8d70d08d899",
   "metadata": {},
   "outputs": [
    {
     "data": {
      "text/plain": [
       "val filter : ('a -> bool) -> 'a list -> unit = <fun>\n"
      ]
     },
     "execution_count": 44,
     "metadata": {},
     "output_type": "execute_result"
    }
   ],
   "source": [
    "let rec filter f l = match l with\n",
    "| [] -> ()\n",
    "| e::q -> if f e = true then filter f q"
   ]
  },
  {
   "cell_type": "code",
   "execution_count": 2,
   "id": "a3dbe946-3de9-48a9-8e1a-9d9f019620fa",
   "metadata": {},
   "outputs": [
    {
     "data": {
      "text/plain": [
       "val somme : int list -> int = <fun>\n"
      ]
     },
     "execution_count": 2,
     "metadata": {},
     "output_type": "execute_result"
    }
   ],
   "source": [
    "let rec somme l = match l with\n",
    "| [] -> 0\n",
    "| [e] -> e\n",
    "| e::q -> e + somme q"
   ]
  },
  {
   "cell_type": "code",
   "execution_count": 41,
   "id": "d29c873c-ff34-459b-ba63-062c22c0efd8",
   "metadata": {},
   "outputs": [
    {
     "data": {
      "text/plain": [
       "- : int = 110\n"
      ]
     },
     "execution_count": 41,
     "metadata": {},
     "output_type": "execute_result"
    }
   ],
   "source": [
    "somme [5; 0; 98; 7]"
   ]
  },
  {
   "cell_type": "code",
   "execution_count": 42,
   "id": "1426ef36-f7ad-4aa0-8bd7-864fb6c90dc9",
   "metadata": {},
   "outputs": [
    {
     "data": {
      "text/plain": [
       "val range : int -> int list = <fun>\n"
      ]
     },
     "execution_count": 42,
     "metadata": {},
     "output_type": "execute_result"
    }
   ],
   "source": [
    "let rec range n =\n",
    "if n = 0 then [0]\n",
    "else n::range(n-1)"
   ]
  },
  {
   "cell_type": "code",
   "execution_count": 43,
   "id": "2481afb4-9194-40e1-ac33-54964d07c467",
   "metadata": {},
   "outputs": [
    {
     "data": {
      "text/plain": [
       "- : int list = [9; 8; 7; 6; 5; 4; 3; 2; 1; 0]\n"
      ]
     },
     "execution_count": 43,
     "metadata": {},
     "output_type": "execute_result"
    }
   ],
   "source": [
    "range 9"
   ]
  },
  {
   "cell_type": "code",
   "execution_count": 30,
   "id": "19856061-eae8-4398-9500-f6f13cab638c",
   "metadata": {},
   "outputs": [
    {
     "data": {
      "text/plain": [
       "val f_sur_l : ('a -> 'b) -> 'a list -> 'b list = <fun>\n"
      ]
     },
     "execution_count": 30,
     "metadata": {},
     "output_type": "execute_result"
    }
   ],
   "source": [
    "let rec f_sur_l f l = match l with\n",
    "| [] -> []\n",
    "| [e] -> [f e]\n",
    "| e::q -> (f e)::(f_sur_l f q)"
   ]
  },
  {
   "cell_type": "code",
   "execution_count": 55,
   "id": "35fea9be-88c4-44ed-bcf7-095ea3994584",
   "metadata": {},
   "outputs": [
    {
     "data": {
      "text/plain": [
       "- : int list = [10; 16; 18]\n"
      ]
     },
     "execution_count": 55,
     "metadata": {},
     "output_type": "execute_result"
    }
   ],
   "source": [
    "let f x = 2*x in\n",
    "f_sur_l f [5;8;9]"
   ]
  },
  {
   "cell_type": "code",
   "execution_count": 57,
   "id": "2c1941c6-9ea1-42e6-ad34-f70342b959da",
   "metadata": {},
   "outputs": [
    {
     "data": {
      "text/plain": [
       "- : int = 25333\n"
      ]
     },
     "execution_count": 57,
     "metadata": {},
     "output_type": "execute_result"
    }
   ],
   "source": [
    "let f x = x*x*x*x in\n",
    "somme (f_sur_l f (range 10))"
   ]
  },
  {
   "cell_type": "code",
   "execution_count": 62,
   "id": "bda19b2c-51fa-42d0-8f95-9542c5dbd339",
   "metadata": {},
   "outputs": [
    {
     "data": {
      "text/plain": [
       "- : bool = true\n"
      ]
     },
     "execution_count": 62,
     "metadata": {},
     "output_type": "execute_result"
    }
   ],
   "source": [
    "let f x = if x>0 then true else false in\n",
    "List.for_all f [1;9;6;56]"
   ]
  },
  {
   "cell_type": "code",
   "execution_count": 2,
   "id": "75bbe335-8157-462b-9d77-b12327bdedae",
   "metadata": {},
   "outputs": [
    {
     "data": {
      "text/plain": [
       "- : bool = true\n"
      ]
     },
     "execution_count": 2,
     "metadata": {},
     "output_type": "execute_result"
    }
   ],
   "source": [
    "let f x = if x mod 2 = 0 then true else false in\n",
    "List.for_all f [2;4;6;8]"
   ]
  },
  {
   "cell_type": "code",
   "execution_count": 6,
   "id": "3d359c81-81e9-4d95-a382-b5c88f98eae1",
   "metadata": {},
   "outputs": [
    {
     "data": {
      "text/plain": [
       "val add : 'a -> 'a list list -> 'a list list = <fun>\n"
      ]
     },
     "execution_count": 6,
     "metadata": {},
     "output_type": "execute_result"
    }
   ],
   "source": [
    "let rec add e ll = match ll with\n",
    "| [] -> []\n",
    "| [l] -> [e::l]\n",
    "| p::q -> (e::p)::(add e q) ;;"
   ]
  },
  {
   "cell_type": "code",
   "execution_count": 23,
   "id": "3085154f-6880-40bc-b3be-5e4554a0c3c0",
   "metadata": {},
   "outputs": [
    {
     "data": {
      "text/plain": [
       "- : int list list = [[4; 5; 8]; [4; 6; 9; 34]]\n"
      ]
     },
     "execution_count": 23,
     "metadata": {},
     "output_type": "execute_result"
    }
   ],
   "source": [
    "add 4 [[5;8];[6;9;34]]"
   ]
  },
  {
   "cell_type": "code",
   "execution_count": 7,
   "id": "2e0b296b-6b13-440b-8336-b8f63c3593f5",
   "metadata": {},
   "outputs": [
    {
     "data": {
      "text/plain": [
       "val partie : 'a list -> 'a list list = <fun>\n"
      ]
     },
     "execution_count": 7,
     "metadata": {},
     "output_type": "execute_result"
    }
   ],
   "source": [
    "let rec partie l = match l with\n",
    "| [] -> [[]]\n",
    "| e::q -> (add e (partie q))@(partie q);;"
   ]
  },
  {
   "cell_type": "code",
   "execution_count": 28,
   "id": "2e0354d5-21ec-43d6-90f4-3bf41f52dad4",
   "metadata": {},
   "outputs": [
    {
     "data": {
      "text/plain": [
       "- : int list list =\n",
       "[[4; 8; 0; 9]; [4; 8; 0]; [4; 8; 9]; [4; 8]; [4; 0; 9]; [4; 0]; [4; 9]; \n",
       " [4]; [8; 0; 9]; [8; 0]; [8; 9]; [8]; [0; 9]; [0]; [9]; []]\n"
      ]
     },
     "execution_count": 28,
     "metadata": {},
     "output_type": "execute_result"
    }
   ],
   "source": [
    "partie [4;8;0;9]"
   ]
  },
  {
   "cell_type": "code",
   "execution_count": 14,
   "id": "536c933b-c426-417f-bd22-483e1573c98e",
   "metadata": {},
   "outputs": [
    {
     "data": {
      "text/plain": [
       "val decomposition : int -> int list -> int list list = <fun>\n"
      ]
     },
     "execution_count": 14,
     "metadata": {},
     "output_type": "execute_result"
    }
   ],
   "source": [
    "let decomposition n l = \n",
    "    let rec aux a d = match d with\n",
    "        | [] -> []\n",
    "        | e::q -> if somme(e) = a then e::aux a q\n",
    "        else aux a q in\n",
    "            let r = partie l in\n",
    "            aux n r;;"
   ]
  },
  {
   "cell_type": "code",
   "execution_count": 13,
   "id": "aaa6108a-467b-4f2b-b9f9-70704fd44300",
   "metadata": {},
   "outputs": [
    {
     "data": {
      "text/plain": [
       "- : int list list = [[4; 8]; [4; 6; 2]]\n"
      ]
     },
     "execution_count": 13,
     "metadata": {},
     "output_type": "execute_result"
    }
   ],
   "source": [
    "decomposition 12 [3; 4; 8; 6; 2]"
   ]
  },
  {
   "cell_type": "code",
   "execution_count": null,
   "id": "2661ca3e-b4eb-4ec7-a6ca-378c3847cf4e",
   "metadata": {},
   "outputs": [],
   "source": []
  }
 ],
 "metadata": {
  "kernelspec": {
   "display_name": "OCaml default",
   "language": "OCaml",
   "name": "ocaml-jupyter"
  },
  "language_info": {
   "codemirror_mode": "text/x-ocaml",
   "file_extension": ".ml",
   "mimetype": "text/x-ocaml",
   "name": "OCaml",
   "nbconverter_exporter": null,
   "pygments_lexer": "OCaml",
   "version": "4.08.1"
  }
 },
 "nbformat": 4,
 "nbformat_minor": 5
}
