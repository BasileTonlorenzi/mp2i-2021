{
 "cells": [
  {
   "cell_type": "code",
   "execution_count": 5,
   "id": "feb1c1db-2a2e-4573-aa6e-6e696215dfc6",
   "metadata": {},
   "outputs": [
    {
     "data": {
      "text/plain": [
       "val divise : int -> int -> bool = <fun>\n"
      ]
     },
     "execution_count": 5,
     "metadata": {},
     "output_type": "execute_result"
    }
   ],
   "source": [
    "let divise a b = b mod a = 0 "
   ]
  },
  {
   "cell_type": "code",
   "execution_count": 16,
   "id": "46cacc5d-527a-4876-a75a-3109f24ea794",
   "metadata": {},
   "outputs": [
    {
     "data": {
      "text/plain": [
       "val somme : int -> int = <fun>\n"
      ]
     },
     "execution_count": 16,
     "metadata": {},
     "output_type": "execute_result"
    }
   ],
   "source": [
    "let rec somme n=\n",
    "if n = 1 then 1\n",
    "else n*n + somme (n-1)"
   ]
  },
  {
   "cell_type": "code",
   "execution_count": 17,
   "id": "ba7859c2-0de9-4d09-aa17-1cd0609b2f6e",
   "metadata": {},
   "outputs": [
    {
     "data": {
      "text/plain": [
       "- : int = 55\n"
      ]
     },
     "execution_count": 17,
     "metadata": {},
     "output_type": "execute_result"
    }
   ],
   "source": [
    "somme 5"
   ]
  },
  {
   "cell_type": "code",
   "execution_count": 21,
   "id": "16876f0f-0060-4057-b862-d007809b7118",
   "metadata": {},
   "outputs": [
    {
     "data": {
      "text/plain": [
       "val u : float -> float = <fun>\n"
      ]
     },
     "execution_count": 21,
     "metadata": {},
     "output_type": "execute_result"
    },
    {
     "ename": "interrupt",
     "evalue": "intterupt",
     "output_type": "error",
     "traceback": [
      "\u001b[31mException: Sys.Break.\u001b[0m"
     ]
    },
    {
     "ename": "interrupt",
     "evalue": "intterupt",
     "output_type": "error",
     "traceback": [
      "\u001b[31mException: Sys.Break.\u001b[0m"
     ]
    }
   ],
   "source": [
    "let rec u n =\n",
    "if n = 0. then 42.\n",
    "else 3.*.sqrt(u (n-.1.)) +. 2."
   ]
  },
  {
   "cell_type": "code",
   "execution_count": 1,
   "id": "e314d29c-2d79-4411-8a34-4d04175e7052",
   "metadata": {},
   "outputs": [
    {
     "data": {
      "text/plain": [
       "val euclide : int -> int -> int = <fun>\n"
      ]
     },
     "execution_count": 1,
     "metadata": {},
     "output_type": "execute_result"
    }
   ],
   "source": [
    "let rec euclide a b=\n",
    "if a mod b = 0 then b\n",
    "else euclide b (a mod b)"
   ]
  },
  {
   "cell_type": "code",
   "execution_count": 2,
   "id": "99bd4070-11a7-432e-97f5-3ecb4015194e",
   "metadata": {},
   "outputs": [
    {
     "data": {
      "text/plain": [
       "- : int = 11\n"
      ]
     },
     "execution_count": 2,
     "metadata": {},
     "output_type": "execute_result"
    }
   ],
   "source": [
    "euclide 11 22"
   ]
  },
  {
   "cell_type": "code",
   "execution_count": 7,
   "id": "5933b23a-b19b-4592-b999-3cd446a8243b",
   "metadata": {},
   "outputs": [
    {
     "data": {
      "text/plain": [
       "val puissance : int -> int -> int = <fun>\n"
      ]
     },
     "execution_count": 7,
     "metadata": {},
     "output_type": "execute_result"
    }
   ],
   "source": [
    "let rec puissance a n=\n",
    "if n = 0 then 1\n",
    "else a * puissance a (n-1)"
   ]
  },
  {
   "cell_type": "code",
   "execution_count": 8,
   "id": "f3a56b81-2e5d-411a-8842-07837457b59e",
   "metadata": {},
   "outputs": [
    {
     "data": {
      "text/plain": [
       "- : int = 16\n"
      ]
     },
     "execution_count": 8,
     "metadata": {},
     "output_type": "execute_result"
    }
   ],
   "source": [
    "puissance 2 4"
   ]
  },
  {
   "cell_type": "markdown",
   "id": "be5c17ca-4060-47fc-9016-b1ceedd74dd9",
   "metadata": {},
   "source": [
    "La puissance effectue n mulstiplication"
   ]
  },
  {
   "cell_type": "code",
   "execution_count": 11,
   "id": "78a6ca62-936a-4ad8-a5de-0354df450683",
   "metadata": {},
   "outputs": [
    {
     "data": {
      "text/plain": [
       "val exp_rapide : int -> int -> int = <fun>\n"
      ]
     },
     "execution_count": 11,
     "metadata": {},
     "output_type": "execute_result"
    }
   ],
   "source": [
    "let rec exp_rapide a n =\n",
    "    if n = 0 then 1\n",
    "    else if n mod 2 = 0 then (exp_rapide a (n/2))*(exp_rapide a (n/2))\n",
    "    else a * (exp_rapide a ((n - 1) / 2))*(exp_rapide a ((n - 1) / 2))"
   ]
  },
  {
   "cell_type": "code",
   "execution_count": 12,
   "id": "6be0f31c-69d3-4ae4-b244-dbedc0e3d42e",
   "metadata": {},
   "outputs": [
    {
     "data": {
      "text/plain": [
       "- : int = 125\n"
      ]
     },
     "execution_count": 12,
     "metadata": {},
     "output_type": "execute_result"
    }
   ],
   "source": [
    "exp_rapide 5 3"
   ]
  },
  {
   "cell_type": "code",
   "execution_count": 10,
   "id": "0c72a393-abd2-45dd-9536-5ce7ba225377",
   "metadata": {},
   "outputs": [
    {
     "data": {
      "text/plain": [
       "val fact : int -> int -> int = <fun>\n"
      ]
     },
     "execution_count": 10,
     "metadata": {},
     "output_type": "execute_result"
    }
   ],
   "source": [
    "let rec fact ac n =\n",
    "if n = 0 then ac\n",
    "else fact (ac*n) (n-1)"
   ]
  },
  {
   "cell_type": "code",
   "execution_count": 13,
   "id": "6ff946e4-ff7d-4131-a63d-a3fa285388d2",
   "metadata": {},
   "outputs": [
    {
     "data": {
      "text/plain": [
       "- : int = 24\n"
      ]
     },
     "execution_count": 13,
     "metadata": {},
     "output_type": "execute_result"
    }
   ],
   "source": [
    "fact 1 4"
   ]
  },
  {
   "cell_type": "code",
   "execution_count": 25,
   "id": "723c9ce3-a147-4494-81db-1e692139ca5b",
   "metadata": {},
   "outputs": [
    {
     "data": {
      "text/plain": [
       "val temps_vol : int -> int = <fun>\n"
      ]
     },
     "execution_count": 25,
     "metadata": {},
     "output_type": "execute_result"
    }
   ],
   "source": [
    "let rec temps_vol a =\n",
    "if a = 1 then 0\n",
    "else\n",
    "if a mod 2 = 0 then 1 + temps_vol (a/2)\n",
    "else 1 + temps_vol (3*a+1)\n"
   ]
  },
  {
   "cell_type": "code",
   "execution_count": 27,
   "id": "b0cca080-1097-4a3a-8791-3bd991b07d2a",
   "metadata": {},
   "outputs": [
    {
     "data": {
      "text/plain": [
       "- : int = 5\n"
      ]
     },
     "execution_count": 27,
     "metadata": {},
     "output_type": "execute_result"
    }
   ],
   "source": [
    "temps_vol 5"
   ]
  },
  {
   "cell_type": "code",
   "execution_count": 21,
   "id": "ac1e96f8-1248-4767-9d06-4cfc1b9f9482",
   "metadata": {},
   "outputs": [],
   "source": [
    "(*let depla (x,y) =\n",
    "print_int x; print_int y; print_newline ();;\n",
    "\n",
    "let rec hanoi n t0 t1 t2 =\n",
    "if n = 1 then depla (t1, t2)\n",
    "else\n",
    "Tentatives diverses échouées *)"
   ]
  },
  {
   "cell_type": "code",
   "execution_count": null,
   "id": "69c7c10b-24ff-461d-8403-abd9e07e8a2b",
   "metadata": {},
   "outputs": [],
   "source": []
  }
 ],
 "metadata": {
  "kernelspec": {
   "display_name": "OCaml default",
   "language": "OCaml",
   "name": "ocaml-jupyter"
  },
  "language_info": {
   "codemirror_mode": "text/x-ocaml",
   "file_extension": ".ml",
   "mimetype": "text/x-ocaml",
   "name": "OCaml",
   "nbconverter_exporter": null,
   "pygments_lexer": "OCaml",
   "version": "4.08.1"
  }
 },
 "nbformat": 4,
 "nbformat_minor": 5
}
